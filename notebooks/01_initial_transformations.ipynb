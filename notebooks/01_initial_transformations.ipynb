{
 "cells": [
  {
   "cell_type": "code",
   "execution_count": 1,
   "metadata": {},
   "outputs": [
    {
     "name": "stderr",
     "output_type": "stream",
     "text": [
      "/home/ubuntu/.local/lib/python3.6/site-packages/pymongo/pyopenssl_context.py:26: CryptographyDeprecationWarning: Python 3.6 is no longer supported by the Python core team. Therefore, support for it is deprecated in cryptography. The next release of cryptography will remove support for Python 3.6.\n",
      "  from cryptography.x509 import load_der_x509_certificate as _load_der_x509_certificate\n"
     ]
    }
   ],
   "source": [
    "from dotenv import load_dotenv\n",
    "import pandas as pd\n",
    "import numpy as np\n",
    "import pymongo\n",
    "import os"
   ]
  },
  {
   "cell_type": "code",
   "execution_count": 2,
   "metadata": {},
   "outputs": [],
   "source": [
    "# os.chdir('bogota-apartments/notebooks') # Only for server execution"
   ]
  },
  {
   "cell_type": "code",
   "execution_count": 3,
   "metadata": {},
   "outputs": [
    {
     "data": {
      "text/plain": [
       "True"
      ]
     },
     "execution_count": 3,
     "metadata": {},
     "output_type": "execute_result"
    }
   ],
   "source": [
    "load_dotenv()"
   ]
  },
  {
   "cell_type": "code",
   "execution_count": 4,
   "metadata": {},
   "outputs": [
    {
     "data": {
      "text/html": [
       "<div>\n",
       "<style scoped>\n",
       "    .dataframe tbody tr th:only-of-type {\n",
       "        vertical-align: middle;\n",
       "    }\n",
       "\n",
       "    .dataframe tbody tr th {\n",
       "        vertical-align: top;\n",
       "    }\n",
       "\n",
       "    .dataframe thead th {\n",
       "        text-align: right;\n",
       "    }\n",
       "</style>\n",
       "<table border=\"1\" class=\"dataframe\">\n",
       "  <thead>\n",
       "    <tr style=\"text-align: right;\">\n",
       "      <th></th>\n",
       "      <th>codigo</th>\n",
       "      <th>tipo_propiedad</th>\n",
       "      <th>tipo_operacion</th>\n",
       "      <th>precio_venta</th>\n",
       "      <th>precio_arriendo</th>\n",
       "      <th>area</th>\n",
       "      <th>habitaciones</th>\n",
       "      <th>banos</th>\n",
       "      <th>administracion</th>\n",
       "      <th>parqueaderos</th>\n",
       "      <th>...</th>\n",
       "      <th>descripcion</th>\n",
       "      <th>datetime</th>\n",
       "      <th>website</th>\n",
       "      <th>compañia</th>\n",
       "      <th>imagenes</th>\n",
       "      <th>fecha_actualizacion_precio_venta</th>\n",
       "      <th>precio_venta_anterior</th>\n",
       "      <th>fecha_actualizacion_precio_arriendo</th>\n",
       "      <th>precio_arriendo_anterior</th>\n",
       "      <th>direccion</th>\n",
       "    </tr>\n",
       "  </thead>\n",
       "  <tbody>\n",
       "    <tr>\n",
       "      <th>0</th>\n",
       "      <td>374-M2718950</td>\n",
       "      <td>APARTAMENTO</td>\n",
       "      <td>VENTA Y ARRIENDO</td>\n",
       "      <td>2.500000e+09</td>\n",
       "      <td>13500000.0</td>\n",
       "      <td>320.0</td>\n",
       "      <td>4.0</td>\n",
       "      <td>5.0</td>\n",
       "      <td>2500000.0</td>\n",
       "      <td>3.0</td>\n",
       "      <td>...</td>\n",
       "      <td>vendo o arriendo ph duplex montearroyo, 320 mt...</td>\n",
       "      <td>2023-06-19 05:43:49.763</td>\n",
       "      <td>metrocuadrado.com</td>\n",
       "      <td>LIDIS MACIAS</td>\n",
       "      <td>[https://multimedia.metrocuadrado.com/374-M271...</td>\n",
       "      <td>NaT</td>\n",
       "      <td>NaN</td>\n",
       "      <td>NaT</td>\n",
       "      <td>NaN</td>\n",
       "      <td>NaN</td>\n",
       "    </tr>\n",
       "    <tr>\n",
       "      <th>1</th>\n",
       "      <td>2510-M4156145</td>\n",
       "      <td>APARTAMENTO</td>\n",
       "      <td>VENTA</td>\n",
       "      <td>4.850000e+08</td>\n",
       "      <td>NaN</td>\n",
       "      <td>84.0</td>\n",
       "      <td>3.0</td>\n",
       "      <td>3.0</td>\n",
       "      <td>680000.0</td>\n",
       "      <td>1.0</td>\n",
       "      <td>...</td>\n",
       "      <td>oportunidad, bonito apartamento, recien refacc...</td>\n",
       "      <td>2023-06-19 05:43:53.411</td>\n",
       "      <td>metrocuadrado.com</td>\n",
       "      <td>JM GESTIONES INMOBILIARIAS</td>\n",
       "      <td>[https://multimedia.metrocuadrado.com/2510-M41...</td>\n",
       "      <td>NaT</td>\n",
       "      <td>NaN</td>\n",
       "      <td>NaT</td>\n",
       "      <td>NaN</td>\n",
       "      <td>NaN</td>\n",
       "    </tr>\n",
       "    <tr>\n",
       "      <th>2</th>\n",
       "      <td>10312-M2873283</td>\n",
       "      <td>APARTAMENTO</td>\n",
       "      <td>VENTA Y ARRIENDO</td>\n",
       "      <td>1.980000e+09</td>\n",
       "      <td>9000000.0</td>\n",
       "      <td>248.0</td>\n",
       "      <td>3.0</td>\n",
       "      <td>3.0</td>\n",
       "      <td>2200000.0</td>\n",
       "      <td>3.0</td>\n",
       "      <td>...</td>\n",
       "      <td>presentamos espectacular apartamento en uno de...</td>\n",
       "      <td>2023-06-19 05:43:58.765</td>\n",
       "      <td>metrocuadrado.com</td>\n",
       "      <td>PENTAGOLD</td>\n",
       "      <td>[https://multimedia.metrocuadrado.com/10312-M2...</td>\n",
       "      <td>NaT</td>\n",
       "      <td>NaN</td>\n",
       "      <td>NaT</td>\n",
       "      <td>NaN</td>\n",
       "      <td>NaN</td>\n",
       "    </tr>\n",
       "  </tbody>\n",
       "</table>\n",
       "<p>3 rows × 30 columns</p>\n",
       "</div>"
      ],
      "text/plain": [
       "           codigo tipo_propiedad    tipo_operacion  precio_venta  \\\n",
       "0    374-M2718950    APARTAMENTO  VENTA Y ARRIENDO  2.500000e+09   \n",
       "1   2510-M4156145    APARTAMENTO             VENTA  4.850000e+08   \n",
       "2  10312-M2873283    APARTAMENTO  VENTA Y ARRIENDO  1.980000e+09   \n",
       "\n",
       "   precio_arriendo   area  habitaciones  banos  administracion  parqueaderos  \\\n",
       "0       13500000.0  320.0           4.0    5.0       2500000.0           3.0   \n",
       "1              NaN   84.0           3.0    3.0        680000.0           1.0   \n",
       "2        9000000.0  248.0           3.0    3.0       2200000.0           3.0   \n",
       "\n",
       "   ...                                        descripcion  \\\n",
       "0  ...  vendo o arriendo ph duplex montearroyo, 320 mt...   \n",
       "1  ...  oportunidad, bonito apartamento, recien refacc...   \n",
       "2  ...  presentamos espectacular apartamento en uno de...   \n",
       "\n",
       "                 datetime            website                    compañia  \\\n",
       "0 2023-06-19 05:43:49.763  metrocuadrado.com                LIDIS MACIAS   \n",
       "1 2023-06-19 05:43:53.411  metrocuadrado.com  JM GESTIONES INMOBILIARIAS   \n",
       "2 2023-06-19 05:43:58.765  metrocuadrado.com                   PENTAGOLD   \n",
       "\n",
       "                                            imagenes  \\\n",
       "0  [https://multimedia.metrocuadrado.com/374-M271...   \n",
       "1  [https://multimedia.metrocuadrado.com/2510-M41...   \n",
       "2  [https://multimedia.metrocuadrado.com/10312-M2...   \n",
       "\n",
       "   fecha_actualizacion_precio_venta precio_venta_anterior  \\\n",
       "0                               NaT                   NaN   \n",
       "1                               NaT                   NaN   \n",
       "2                               NaT                   NaN   \n",
       "\n",
       "  fecha_actualizacion_precio_arriendo precio_arriendo_anterior direccion  \n",
       "0                                 NaT                      NaN       NaN  \n",
       "1                                 NaT                      NaN       NaN  \n",
       "2                                 NaT                      NaN       NaN  \n",
       "\n",
       "[3 rows x 30 columns]"
      ]
     },
     "execution_count": 4,
     "metadata": {},
     "output_type": "execute_result"
    }
   ],
   "source": [
    "client = pymongo.MongoClient(os.getenv('MONGO_URI'))\n",
    "db = client[os.getenv('MONGO_DATABASE')]\n",
    "collection = db['scrapy_bogota_apartments']\n",
    "\n",
    "df = pd.DataFrame(list(collection.find()))\n",
    "df = df.drop(columns=['_id'], axis=1)\n",
    "\n",
    "df.head(3)"
   ]
  },
  {
   "cell_type": "code",
   "execution_count": 6,
   "metadata": {},
   "outputs": [
    {
     "data": {
      "text/plain": [
       "Index(['codigo', 'tipo_propiedad', 'tipo_operacion', 'precio_venta',\n",
       "       'precio_arriendo', 'area', 'habitaciones', 'banos', 'administracion',\n",
       "       'parqueaderos', 'sector', 'estrato', 'antiguedad', 'estado', 'longitud',\n",
       "       'latitud', 'featured_interior', 'featured_exterior',\n",
       "       'featured_zona_comun', 'featured_sector', 'descripcion', 'datetime',\n",
       "       'website', 'compañia', 'imagenes', 'fecha_actualizacion_precio_venta',\n",
       "       'precio_venta_anterior', 'fecha_actualizacion_precio_arriendo',\n",
       "       'precio_arriendo_anterior', 'direccion'],\n",
       "      dtype='object')"
      ]
     },
     "execution_count": 6,
     "metadata": {},
     "output_type": "execute_result"
    }
   ],
   "source": [
    "df.columns"
   ]
  },
  {
   "cell_type": "code",
   "execution_count": 7,
   "metadata": {},
   "outputs": [],
   "source": [
    "images_explode = df.explode('imagenes')\n",
    "images_explode = images_explode.dropna(subset=['imagenes'])"
   ]
  },
  {
   "cell_type": "code",
   "execution_count": 8,
   "metadata": {},
   "outputs": [
    {
     "data": {
      "text/plain": [
       "(986463, 2)"
      ]
     },
     "execution_count": 8,
     "metadata": {},
     "output_type": "execute_result"
    }
   ],
   "source": [
    "images_df = images_explode[['codigo', 'imagenes']].rename(columns={'imagenes': 'url_imagen'})\n",
    "images_df.shape"
   ]
  },
  {
   "cell_type": "code",
   "execution_count": 9,
   "metadata": {},
   "outputs": [
    {
     "data": {
      "text/plain": [
       "Index(['codigo', 'url_imagen'], dtype='object')"
      ]
     },
     "execution_count": 9,
     "metadata": {},
     "output_type": "execute_result"
    }
   ],
   "source": [
    "images_df.to_csv('../data/processed/images.csv', index=False)\n",
    "images_df.columns"
   ]
  },
  {
   "cell_type": "code",
   "execution_count": 10,
   "metadata": {},
   "outputs": [],
   "source": [
    "df = df.drop(columns=['imagenes'], axis=1)"
   ]
  },
  {
   "cell_type": "code",
   "execution_count": 11,
   "metadata": {},
   "outputs": [],
   "source": [
    "from src import extract_features\n",
    "\n",
    "df['jacuzzi'] = df.featured_interior.apply(extract_features.check_jacuzzi)\n",
    "df['piso'] = df.featured_interior.apply(extract_features.extract_piso)\n",
    "df['closets'] = df.featured_interior.apply(extract_features.extract_closets)\n",
    "df['chimenea'] = df.featured_interior.apply(extract_features.check_chimeny)\n",
    "df['permite_mascotas'] = df.featured_interior.apply(extract_features.check_mascotas)\n",
    "df['gimnasio'] = df.featured_zona_comun.apply(extract_features.check_gimnasio)\n",
    "df['ascensor'] = df.featured_exterior.apply(extract_features.check_ascensor)\n",
    "df['conjunto_cerrado'] = df.featured_exterior.apply(extract_features.check_conjunto_cerrado)"
   ]
  },
  {
   "cell_type": "code",
   "execution_count": 12,
   "metadata": {},
   "outputs": [
    {
     "name": "stdout",
     "output_type": "stream",
     "text": [
      "<class 'pandas.core.frame.DataFrame'>\n",
      "RangeIndex: 65041 entries, 0 to 65040\n",
      "Data columns (total 37 columns):\n",
      " #   Column                               Non-Null Count  Dtype         \n",
      "---  ------                               --------------  -----         \n",
      " 0   codigo                               65041 non-null  object        \n",
      " 1   tipo_propiedad                       65041 non-null  object        \n",
      " 2   tipo_operacion                       65041 non-null  object        \n",
      " 3   precio_venta                         45734 non-null  float64       \n",
      " 4   precio_arriendo                      20193 non-null  float64       \n",
      " 5   area                                 65039 non-null  float64       \n",
      " 6   habitaciones                         65033 non-null  float64       \n",
      " 7   banos                                65035 non-null  float64       \n",
      " 8   administracion                       52731 non-null  float64       \n",
      " 9   parqueaderos                         65033 non-null  float64       \n",
      " 10  sector                               60468 non-null  object        \n",
      " 11  estrato                              65021 non-null  float64       \n",
      " 12  antiguedad                           65013 non-null  object        \n",
      " 13  estado                               63894 non-null  object        \n",
      " 14  longitud                             63604 non-null  float64       \n",
      " 15  latitud                              63604 non-null  float64       \n",
      " 16  featured_interior                    63676 non-null  object        \n",
      " 17  featured_exterior                    59387 non-null  object        \n",
      " 18  featured_zona_comun                  50914 non-null  object        \n",
      " 19  featured_sector                      35222 non-null  object        \n",
      " 20  descripcion                          65032 non-null  object        \n",
      " 21  datetime                             65041 non-null  datetime64[ns]\n",
      " 22  website                              65041 non-null  object        \n",
      " 23  compañia                             52095 non-null  object        \n",
      " 24  fecha_actualizacion_precio_venta     1968 non-null   datetime64[ns]\n",
      " 25  precio_venta_anterior                1930 non-null   float64       \n",
      " 26  fecha_actualizacion_precio_arriendo  1924 non-null   datetime64[ns]\n",
      " 27  precio_arriendo_anterior             1901 non-null   float64       \n",
      " 28  direccion                            1147 non-null   object        \n",
      " 29  jacuzzi                              65041 non-null  int64         \n",
      " 30  piso                                 36395 non-null  float64       \n",
      " 31  closets                              23965 non-null  float64       \n",
      " 32  chimenea                             65041 non-null  int64         \n",
      " 33  permite_mascotas                     65041 non-null  int64         \n",
      " 34  gimnasio                             65041 non-null  int64         \n",
      " 35  ascensor                             65041 non-null  int64         \n",
      " 36  conjunto_cerrado                     65041 non-null  int64         \n",
      "dtypes: datetime64[ns](3), float64(14), int64(6), object(14)\n",
      "memory usage: 18.4+ MB\n"
     ]
    }
   ],
   "source": [
    "df.info()"
   ]
  },
  {
   "cell_type": "code",
   "execution_count": 13,
   "metadata": {},
   "outputs": [
    {
     "data": {
      "text/plain": [
       "Index(['codigo', 'tipo_propiedad', 'tipo_operacion', 'precio_venta',\n",
       "       'precio_arriendo', 'area', 'habitaciones', 'banos', 'administracion',\n",
       "       'parqueaderos', 'sector', 'estrato', 'antiguedad', 'estado', 'longitud',\n",
       "       'latitud', 'descripcion', 'datetime', 'website', 'compañia',\n",
       "       'fecha_actualizacion_precio_venta', 'precio_venta_anterior',\n",
       "       'fecha_actualizacion_precio_arriendo', 'precio_arriendo_anterior',\n",
       "       'direccion', 'jacuzzi', 'piso', 'closets', 'chimenea',\n",
       "       'permite_mascotas', 'gimnasio', 'ascensor', 'conjunto_cerrado'],\n",
       "      dtype='object')"
      ]
     },
     "execution_count": 13,
     "metadata": {},
     "output_type": "execute_result"
    }
   ],
   "source": [
    "df = df.drop(columns=['featured_interior', 'featured_zona_comun', 'featured_exterior', 'featured_sector'], axis=1)\n",
    "df.columns"
   ]
  },
  {
   "cell_type": "code",
   "execution_count": 14,
   "metadata": {},
   "outputs": [],
   "source": [
    "df.to_csv('../data/interim/apartments.csv', index=False)"
   ]
  },
  {
   "cell_type": "code",
   "execution_count": 15,
   "metadata": {},
   "outputs": [
    {
     "data": {
      "text/html": [
       "<details>\n",
       "<summary>Click to view session information</summary>\n",
       "<pre>\n",
       "-----\n",
       "dotenv              NA\n",
       "numpy               1.19.5\n",
       "pandas              1.1.5\n",
       "pymongo             4.1.1\n",
       "session_info        1.0.0\n",
       "src                 NA\n",
       "-----\n",
       "</pre>\n",
       "<details>\n",
       "<summary>Click to view modules imported as dependencies</summary>\n",
       "<pre>\n",
       "OpenSSL             23.2.0\n",
       "apport_python_hook  NA\n",
       "attr                22.2.0\n",
       "backcall            0.2.0\n",
       "bson                NA\n",
       "certifi             2018.01.18\n",
       "chardet             3.0.4\n",
       "colorama            0.3.7\n",
       "comm                0.1.4\n",
       "cryptography        40.0.2\n",
       "cython_runtime      NA\n",
       "dataclasses         NA\n",
       "dateutil            2.8.2\n",
       "decorator           5.1.1\n",
       "dns                 2.2.1\n",
       "entrypoints         0.4\n",
       "idna                2.6\n",
       "ipykernel           5.5.6\n",
       "ipyparallel         8.2.1\n",
       "ipython_genutils    0.2.0\n",
       "ipywidgets          7.8.1\n",
       "jedi                0.17.2\n",
       "mpl_toolkits        NA\n",
       "netifaces           0.10.4\n",
       "parso               0.7.1\n",
       "pexpect             4.2.1\n",
       "pickleshare         0.7.5\n",
       "prompt_toolkit      3.0.36\n",
       "psutil              5.9.5\n",
       "ptyprocess          0.7.0\n",
       "pyasn1              0.4.2\n",
       "pyasn1_modules      0.2.1\n",
       "pygments            2.14.0\n",
       "pytz                2023.3.post1\n",
       "requests            2.18.4\n",
       "service_identity    21.1.0\n",
       "sitecustomize       NA\n",
       "six                 1.11.0\n",
       "storemagic          NA\n",
       "tornado             6.1\n",
       "traitlets           4.3.3\n",
       "typing_extensions   NA\n",
       "urllib3             1.22\n",
       "wcwidth             0.2.7\n",
       "zmq                 25.1.1\n",
       "zope                NA\n",
       "</pre>\n",
       "</details> <!-- seems like this ends pre, so might as well be explicit -->\n",
       "<pre>\n",
       "-----\n",
       "IPython             7.16.3\n",
       "jupyter_client      7.1.2\n",
       "jupyter_core        4.9.2\n",
       "notebook            6.4.10\n",
       "-----\n",
       "Python 3.6.9 (default, Mar 10 2023, 16:46:00) [GCC 8.4.0]\n",
       "Linux-5.4.0-1102-oracle-x86_64-with-Ubuntu-18.04-bionic\n",
       "-----\n",
       "Session information updated at 2023-09-30 04:33\n",
       "</pre>\n",
       "</details>"
      ],
      "text/plain": [
       "<IPython.core.display.HTML object>"
      ]
     },
     "execution_count": 15,
     "metadata": {},
     "output_type": "execute_result"
    }
   ],
   "source": [
    "import session_info\n",
    "\n",
    "session_info.show()"
   ]
  }
 ],
 "metadata": {
  "kernelspec": {
   "display_name": "Python 3",
   "language": "python",
   "name": "python3"
  },
  "language_info": {
   "codemirror_mode": {
    "name": "ipython",
    "version": 3
   },
   "file_extension": ".py",
   "mimetype": "text/x-python",
   "name": "python",
   "nbconvert_exporter": "python",
   "pygments_lexer": "ipython3",
   "version": "3.11.5"
  }
 },
 "nbformat": 4,
 "nbformat_minor": 2
}
