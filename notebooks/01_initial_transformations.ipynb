{
 "cells": [
  {
   "cell_type": "code",
   "execution_count": 1,
   "metadata": {},
   "outputs": [],
   "source": [
    "from dotenv import load_dotenv\n",
    "import pandas as pd\n",
    "import numpy as np\n",
    "import pymongo\n",
    "import os"
   ]
  },
  {
   "cell_type": "code",
   "execution_count": 2,
   "metadata": {},
   "outputs": [
    {
     "data": {
      "text/plain": [
       "True"
      ]
     },
     "execution_count": 2,
     "metadata": {},
     "output_type": "execute_result"
    }
   ],
   "source": [
    "load_dotenv()"
   ]
  },
  {
   "cell_type": "code",
   "execution_count": 2,
   "metadata": {},
   "outputs": [
    {
     "data": {
      "text/html": [
       "<div>\n",
       "<style scoped>\n",
       "    .dataframe tbody tr th:only-of-type {\n",
       "        vertical-align: middle;\n",
       "    }\n",
       "\n",
       "    .dataframe tbody tr th {\n",
       "        vertical-align: top;\n",
       "    }\n",
       "\n",
       "    .dataframe thead th {\n",
       "        text-align: right;\n",
       "    }\n",
       "</style>\n",
       "<table border=\"1\" class=\"dataframe\">\n",
       "  <thead>\n",
       "    <tr style=\"text-align: right;\">\n",
       "      <th></th>\n",
       "      <th>codigo</th>\n",
       "      <th>tipo_propiedad</th>\n",
       "      <th>tipo_operacion</th>\n",
       "      <th>precio_venta</th>\n",
       "      <th>precio_arriendo</th>\n",
       "      <th>area</th>\n",
       "      <th>habitaciones</th>\n",
       "      <th>banos</th>\n",
       "      <th>administracion</th>\n",
       "      <th>parqueaderos</th>\n",
       "      <th>...</th>\n",
       "      <th>featured_sector</th>\n",
       "      <th>descripcion</th>\n",
       "      <th>datetime</th>\n",
       "      <th>website</th>\n",
       "      <th>compañia</th>\n",
       "      <th>imagenes</th>\n",
       "      <th>fecha_actualizacion_precio_venta</th>\n",
       "      <th>precio_venta_anterior</th>\n",
       "      <th>fecha_actualizacion_precio_arriendo</th>\n",
       "      <th>precio_arriendo_anterior</th>\n",
       "    </tr>\n",
       "  </thead>\n",
       "  <tbody>\n",
       "    <tr>\n",
       "      <th>0</th>\n",
       "      <td>374-M2718950</td>\n",
       "      <td>APARTAMENTO</td>\n",
       "      <td>VENTA Y ARRIENDO</td>\n",
       "      <td>2.500000e+09</td>\n",
       "      <td>13500000.0</td>\n",
       "      <td>320.0</td>\n",
       "      <td>4.0</td>\n",
       "      <td>5.0</td>\n",
       "      <td>2500000.0</td>\n",
       "      <td>3.0</td>\n",
       "      <td>...</td>\n",
       "      <td>[CERCA CENTROS COMERCIALES, CERCA COLEGIOS / U...</td>\n",
       "      <td>vendo o arriendo ph duplex montearroyo, 320 mt...</td>\n",
       "      <td>2023-06-19 05:43:49.763</td>\n",
       "      <td>metrocuadrado.com</td>\n",
       "      <td>LIDIS MACIAS</td>\n",
       "      <td>[https://multimedia.metrocuadrado.com/374-M271...</td>\n",
       "      <td>NaT</td>\n",
       "      <td>NaN</td>\n",
       "      <td>NaT</td>\n",
       "      <td>NaN</td>\n",
       "    </tr>\n",
       "    <tr>\n",
       "      <th>1</th>\n",
       "      <td>2510-M4156145</td>\n",
       "      <td>APARTAMENTO</td>\n",
       "      <td>VENTA</td>\n",
       "      <td>4.850000e+08</td>\n",
       "      <td>NaN</td>\n",
       "      <td>84.0</td>\n",
       "      <td>3.0</td>\n",
       "      <td>3.0</td>\n",
       "      <td>680000.0</td>\n",
       "      <td>1.0</td>\n",
       "      <td>...</td>\n",
       "      <td>NaN</td>\n",
       "      <td>oportunidad, bonito apartamento, recien refacc...</td>\n",
       "      <td>2023-06-19 05:43:53.411</td>\n",
       "      <td>metrocuadrado.com</td>\n",
       "      <td>JM GESTIONES INMOBILIARIAS</td>\n",
       "      <td>[https://multimedia.metrocuadrado.com/2510-M41...</td>\n",
       "      <td>NaT</td>\n",
       "      <td>NaN</td>\n",
       "      <td>NaT</td>\n",
       "      <td>NaN</td>\n",
       "    </tr>\n",
       "    <tr>\n",
       "      <th>2</th>\n",
       "      <td>10312-M2873283</td>\n",
       "      <td>APARTAMENTO</td>\n",
       "      <td>VENTA Y ARRIENDO</td>\n",
       "      <td>1.980000e+09</td>\n",
       "      <td>9000000.0</td>\n",
       "      <td>248.0</td>\n",
       "      <td>3.0</td>\n",
       "      <td>3.0</td>\n",
       "      <td>2200000.0</td>\n",
       "      <td>3.0</td>\n",
       "      <td>...</td>\n",
       "      <td>[CERCA CENTROS COMERCIALES, CERCA COLEGIOS / U...</td>\n",
       "      <td>presentamos espectacular apartamento en uno de...</td>\n",
       "      <td>2023-06-19 05:43:58.765</td>\n",
       "      <td>metrocuadrado.com</td>\n",
       "      <td>PENTAGOLD</td>\n",
       "      <td>[https://multimedia.metrocuadrado.com/10312-M2...</td>\n",
       "      <td>NaT</td>\n",
       "      <td>NaN</td>\n",
       "      <td>NaT</td>\n",
       "      <td>NaN</td>\n",
       "    </tr>\n",
       "  </tbody>\n",
       "</table>\n",
       "<p>3 rows × 29 columns</p>\n",
       "</div>"
      ],
      "text/plain": [
       "           codigo tipo_propiedad    tipo_operacion  precio_venta  \\\n",
       "0    374-M2718950    APARTAMENTO  VENTA Y ARRIENDO  2.500000e+09   \n",
       "1   2510-M4156145    APARTAMENTO             VENTA  4.850000e+08   \n",
       "2  10312-M2873283    APARTAMENTO  VENTA Y ARRIENDO  1.980000e+09   \n",
       "\n",
       "   precio_arriendo   area  habitaciones  banos  administracion  parqueaderos  \\\n",
       "0       13500000.0  320.0           4.0    5.0       2500000.0           3.0   \n",
       "1              NaN   84.0           3.0    3.0        680000.0           1.0   \n",
       "2        9000000.0  248.0           3.0    3.0       2200000.0           3.0   \n",
       "\n",
       "   ...                                    featured_sector  \\\n",
       "0  ...  [CERCA CENTROS COMERCIALES, CERCA COLEGIOS / U...   \n",
       "1  ...                                                NaN   \n",
       "2  ...  [CERCA CENTROS COMERCIALES, CERCA COLEGIOS / U...   \n",
       "\n",
       "                                         descripcion                datetime  \\\n",
       "0  vendo o arriendo ph duplex montearroyo, 320 mt... 2023-06-19 05:43:49.763   \n",
       "1  oportunidad, bonito apartamento, recien refacc... 2023-06-19 05:43:53.411   \n",
       "2  presentamos espectacular apartamento en uno de... 2023-06-19 05:43:58.765   \n",
       "\n",
       "             website                    compañia  \\\n",
       "0  metrocuadrado.com                LIDIS MACIAS   \n",
       "1  metrocuadrado.com  JM GESTIONES INMOBILIARIAS   \n",
       "2  metrocuadrado.com                   PENTAGOLD   \n",
       "\n",
       "                                            imagenes  \\\n",
       "0  [https://multimedia.metrocuadrado.com/374-M271...   \n",
       "1  [https://multimedia.metrocuadrado.com/2510-M41...   \n",
       "2  [https://multimedia.metrocuadrado.com/10312-M2...   \n",
       "\n",
       "  fecha_actualizacion_precio_venta precio_venta_anterior  \\\n",
       "0                              NaT                   NaN   \n",
       "1                              NaT                   NaN   \n",
       "2                              NaT                   NaN   \n",
       "\n",
       "  fecha_actualizacion_precio_arriendo precio_arriendo_anterior  \n",
       "0                                 NaT                      NaN  \n",
       "1                                 NaT                      NaN  \n",
       "2                                 NaT                      NaN  \n",
       "\n",
       "[3 rows x 29 columns]"
      ]
     },
     "execution_count": 2,
     "metadata": {},
     "output_type": "execute_result"
    }
   ],
   "source": [
    "client = pymongo.MongoClient(os.getenv('MONGO_URI'))\n",
    "db = client[os.getenv('MONGO_DATABASE')]\n",
    "collection = db['scrapy_bogota_apartments']\n",
    "\n",
    "df = pd.DataFrame(list(collection.find()))\n",
    "df = df.drop(columns=['_id'], axis=1)\n",
    "\n",
    "df.head(3)"
   ]
  },
  {
   "cell_type": "code",
   "execution_count": 4,
   "metadata": {},
   "outputs": [
    {
     "data": {
      "text/plain": [
       "Index(['codigo', 'tipo_propiedad', 'tipo_operacion', 'precio_venta',\n",
       "       'precio_arriendo', 'area', 'habitaciones', 'banos', 'administracion',\n",
       "       'parqueaderos', 'sector', 'estrato', 'antiguedad', 'estado', 'longitud',\n",
       "       'latitud', 'featured_interior', 'featured_exterior',\n",
       "       'featured_zona_comun', 'featured_sector', 'descripcion', 'datetime',\n",
       "       'website', 'compañia', 'imagenes', 'fecha_actualizacion_precio_venta',\n",
       "       'precio_venta_anterior', 'fecha_actualizacion_precio_arriendo',\n",
       "       'precio_arriendo_anterior'],\n",
       "      dtype='object')"
      ]
     },
     "execution_count": 4,
     "metadata": {},
     "output_type": "execute_result"
    }
   ],
   "source": [
    "df.columns"
   ]
  },
  {
   "cell_type": "code",
   "execution_count": 5,
   "metadata": {},
   "outputs": [],
   "source": [
    "images_explode = df.explode('imagenes')\n",
    "images_explode = images_explode.dropna(subset=['imagenes'])"
   ]
  },
  {
   "cell_type": "code",
   "execution_count": 6,
   "metadata": {},
   "outputs": [
    {
     "data": {
      "text/plain": [
       "(343741, 2)"
      ]
     },
     "execution_count": 6,
     "metadata": {},
     "output_type": "execute_result"
    }
   ],
   "source": [
    "images_df = images_explode[['codigo', 'imagenes']].rename(columns={'imagenes': 'url_imagen'})\n",
    "images_df.shape"
   ]
  },
  {
   "cell_type": "code",
   "execution_count": 7,
   "metadata": {},
   "outputs": [
    {
     "data": {
      "text/plain": [
       "Index(['codigo', 'url_imagen'], dtype='object')"
      ]
     },
     "execution_count": 7,
     "metadata": {},
     "output_type": "execute_result"
    }
   ],
   "source": [
    "images_df.to_csv('../data/processed/images.csv', index=False)\n",
    "images_df.columns"
   ]
  },
  {
   "cell_type": "code",
   "execution_count": 17,
   "metadata": {},
   "outputs": [],
   "source": [
    "df = df.drop(columns=['imagenes'], axis=1)"
   ]
  },
  {
   "cell_type": "code",
   "execution_count": 8,
   "metadata": {},
   "outputs": [],
   "source": [
    "def check_jacuzzi(x):\n",
    "    if type(x) == list:\n",
    "        return 1 if 'JACUZZI' in x else 0\n",
    "    else:\n",
    "        return 0\n",
    "\n",
    "df['jacuzzi'] = df.featured_interior.apply(check_jacuzzi)"
   ]
  },
  {
   "cell_type": "code",
   "execution_count": 9,
   "metadata": {},
   "outputs": [],
   "source": [
    "def extract_piso(x):\n",
    "    if type(x) == list:\n",
    "        try:\n",
    "            for item in x:\n",
    "                if item.startswith('PISO '):\n",
    "                    return int(item.split(' ')[1])\n",
    "        except:\n",
    "            return np.nan\n",
    "    else:\n",
    "        return np.nan\n",
    "    \n",
    "    \n",
    "df['piso'] = df.featured_interior.apply(extract_piso)"
   ]
  },
  {
   "cell_type": "code",
   "execution_count": 10,
   "metadata": {},
   "outputs": [],
   "source": [
    "def extract_closets(x):\n",
    "    if type(x) == list:\n",
    "        try:\n",
    "            for item in x:\n",
    "                if item.startswith('CLOSETS'):\n",
    "                    return int(item.split(' ')[1])\n",
    "        except:\n",
    "            return np.nan\n",
    "    else:\n",
    "        return np.nan\n",
    "    \n",
    "df['closets'] = df.featured_interior.apply(extract_closets)"
   ]
  },
  {
   "cell_type": "code",
   "execution_count": 11,
   "metadata": {},
   "outputs": [],
   "source": [
    "def check_chimeny(x):\n",
    "    if type(x) == list:\n",
    "        return 1 if 'CHIMENEA' in x else 0\n",
    "    else:\n",
    "        return 0\n",
    "    \n",
    "df['chimenea'] = df.featured_interior.apply(check_chimeny)"
   ]
  },
  {
   "cell_type": "code",
   "execution_count": 12,
   "metadata": {},
   "outputs": [],
   "source": [
    "def check_mascotas(x):\n",
    "    if type(x) == list:\n",
    "        return 1 if 'PERMITE MASCOTAS' in x else 0\n",
    "    else:\n",
    "        return 0\n",
    "    \n",
    "df['permite_mascotas'] = df.featured_interior.apply(check_mascotas)"
   ]
  },
  {
   "cell_type": "code",
   "execution_count": 13,
   "metadata": {},
   "outputs": [],
   "source": [
    "def check_gimnasio(x):\n",
    "    if type(x) == list:\n",
    "        return 1 if 'GIMNASIO' in x else 0\n",
    "    else:\n",
    "        return 0\n",
    "    \n",
    "df['gimnasio'] = df.featured_zona_comun.apply(check_gimnasio)"
   ]
  },
  {
   "cell_type": "code",
   "execution_count": 14,
   "metadata": {},
   "outputs": [],
   "source": [
    "def check_ascensor(x):\n",
    "    if type(x) == list:\n",
    "        return 1 if 'ASCENSOR' in x else 0\n",
    "    else:\n",
    "        return 0\n",
    "    \n",
    "df['ascensor'] = df.featured_exterior.apply(check_ascensor)"
   ]
  },
  {
   "cell_type": "code",
   "execution_count": 15,
   "metadata": {},
   "outputs": [],
   "source": [
    "def check_conjunto_cerrado(x):\n",
    "    if type(x) == list:\n",
    "        return 1 if 'CONJUNTO CERRADO' in x else 0\n",
    "    else:\n",
    "        return 0\n",
    "    \n",
    "df['conjunto_cerrado'] = df.featured_exterior.apply(check_conjunto_cerrado)"
   ]
  },
  {
   "cell_type": "code",
   "execution_count": 18,
   "metadata": {},
   "outputs": [
    {
     "name": "stdout",
     "output_type": "stream",
     "text": [
      "<class 'pandas.core.frame.DataFrame'>\n",
      "RangeIndex: 40177 entries, 0 to 40176\n",
      "Data columns (total 36 columns):\n",
      " #   Column                               Non-Null Count  Dtype         \n",
      "---  ------                               --------------  -----         \n",
      " 0   codigo                               40177 non-null  object        \n",
      " 1   tipo_propiedad                       40177 non-null  object        \n",
      " 2   tipo_operacion                       40177 non-null  object        \n",
      " 3   precio_venta                         27050 non-null  float64       \n",
      " 4   precio_arriendo                      13895 non-null  float64       \n",
      " 5   area                                 40175 non-null  float64       \n",
      " 6   habitaciones                         40169 non-null  float64       \n",
      " 7   banos                                40171 non-null  float64       \n",
      " 8   administracion                       32021 non-null  float64       \n",
      " 9   parqueaderos                         40169 non-null  float64       \n",
      " 10  sector                               37289 non-null  object        \n",
      " 11  estrato                              40164 non-null  float64       \n",
      " 12  antiguedad                           40162 non-null  object        \n",
      " 13  estado                               40177 non-null  object        \n",
      " 14  longitud                             39405 non-null  float64       \n",
      " 15  latitud                              39405 non-null  float64       \n",
      " 16  featured_interior                    39296 non-null  object        \n",
      " 17  featured_exterior                    37226 non-null  object        \n",
      " 18  featured_zona_comun                  31722 non-null  object        \n",
      " 19  featured_sector                      21757 non-null  object        \n",
      " 20  descripcion                          40171 non-null  object        \n",
      " 21  datetime                             40177 non-null  datetime64[ns]\n",
      " 22  website                              40177 non-null  object        \n",
      " 23  compañia                             18920 non-null  object        \n",
      " 24  fecha_actualizacion_precio_venta     260 non-null    datetime64[ns]\n",
      " 25  precio_venta_anterior                257 non-null    float64       \n",
      " 26  fecha_actualizacion_precio_arriendo  701 non-null    datetime64[ns]\n",
      " 27  precio_arriendo_anterior             692 non-null    float64       \n",
      " 28  jacuzzi                              40177 non-null  int64         \n",
      " 29  piso                                 22660 non-null  float64       \n",
      " 30  closets                              14549 non-null  float64       \n",
      " 31  chimenea                             40177 non-null  int64         \n",
      " 32  permite_mascotas                     40177 non-null  int64         \n",
      " 33  gimnasio                             40177 non-null  int64         \n",
      " 34  ascensor                             40177 non-null  int64         \n",
      " 35  conjunto_cerrado                     40177 non-null  int64         \n",
      "dtypes: datetime64[ns](3), float64(14), int64(6), object(13)\n",
      "memory usage: 11.0+ MB\n"
     ]
    }
   ],
   "source": [
    "df.info()"
   ]
  },
  {
   "cell_type": "code",
   "execution_count": 19,
   "metadata": {},
   "outputs": [
    {
     "data": {
      "text/plain": [
       "Index(['codigo', 'tipo_propiedad', 'tipo_operacion', 'precio_venta',\n",
       "       'precio_arriendo', 'area', 'habitaciones', 'banos', 'administracion',\n",
       "       'parqueaderos', 'sector', 'estrato', 'antiguedad', 'estado', 'longitud',\n",
       "       'latitud', 'descripcion', 'datetime', 'website', 'compañia',\n",
       "       'fecha_actualizacion_precio_venta', 'precio_venta_anterior',\n",
       "       'fecha_actualizacion_precio_arriendo', 'precio_arriendo_anterior',\n",
       "       'jacuzzi', 'piso', 'closets', 'chimenea', 'permite_mascotas',\n",
       "       'gimnasio', 'ascensor', 'conjunto_cerrado'],\n",
       "      dtype='object')"
      ]
     },
     "execution_count": 19,
     "metadata": {},
     "output_type": "execute_result"
    }
   ],
   "source": [
    "df = df.drop(columns=['featured_interior', 'featured_zona_comun', 'featured_exterior', 'featured_sector'], axis=1)\n",
    "df.columns"
   ]
  },
  {
   "cell_type": "code",
   "execution_count": 20,
   "metadata": {},
   "outputs": [],
   "source": [
    "df.to_csv('../data/interim/apartments.csv', index=False)"
   ]
  },
  {
   "cell_type": "code",
   "execution_count": 21,
   "metadata": {},
   "outputs": [
    {
     "data": {
      "text/html": [
       "<details>\n",
       "<summary>Click to view session information</summary>\n",
       "<pre>\n",
       "-----\n",
       "dotenv              NA\n",
       "numpy               1.25.1\n",
       "pandas              2.0.3\n",
       "pymongo             4.4.1\n",
       "session_info        1.0.0\n",
       "-----\n",
       "</pre>\n",
       "<details>\n",
       "<summary>Click to view modules imported as dependencies</summary>\n",
       "<pre>\n",
       "OpenSSL             23.2.0\n",
       "anyio               NA\n",
       "asttokens           NA\n",
       "attr                23.1.0\n",
       "backcall            0.2.0\n",
       "bson                NA\n",
       "certifi             2023.05.07\n",
       "cffi                1.15.1\n",
       "charset_normalizer  3.2.0\n",
       "colorama            0.4.6\n",
       "comm                0.1.3\n",
       "cryptography        41.0.2\n",
       "cython_runtime      NA\n",
       "dateutil            2.8.2\n",
       "debugpy             1.6.7\n",
       "decorator           5.1.1\n",
       "dns                 2.4.0\n",
       "executing           1.2.0\n",
       "h11                 0.14.0\n",
       "httpcore            0.17.3\n",
       "idna                3.4\n",
       "ipykernel           6.24.0\n",
       "jedi                0.18.2\n",
       "mpl_toolkits        NA\n",
       "outcome             1.2.0\n",
       "packaging           23.1\n",
       "parso               0.8.3\n",
       "pickleshare         0.7.5\n",
       "pkg_resources       NA\n",
       "platformdirs        3.9.1\n",
       "prompt_toolkit      3.0.39\n",
       "psutil              5.9.5\n",
       "pure_eval           0.2.2\n",
       "pyasn1              0.5.0\n",
       "pyasn1_modules      0.3.0\n",
       "pycparser           2.21\n",
       "pydev_ipython       NA\n",
       "pydevconsole        NA\n",
       "pydevd              2.9.5\n",
       "pydevd_file_utils   NA\n",
       "pydevd_plugins      NA\n",
       "pydevd_tracing      NA\n",
       "pygments            2.15.1\n",
       "pythoncom           NA\n",
       "pytz                2023.3\n",
       "pywin32_bootstrap   NA\n",
       "pywin32_system32    NA\n",
       "pywintypes          NA\n",
       "requests            2.31.0\n",
       "service_identity    23.1.0\n",
       "six                 1.16.0\n",
       "sniffio             1.3.0\n",
       "socks               1.7.1\n",
       "sortedcontainers    2.4.0\n",
       "stack_data          0.6.2\n",
       "tornado             6.3.2\n",
       "traitlets           5.9.0\n",
       "trio                0.22.2\n",
       "urllib3             2.0.3\n",
       "wcwidth             0.2.6\n",
       "zmq                 25.1.0\n",
       "zope                NA\n",
       "</pre>\n",
       "</details> <!-- seems like this ends pre, so might as well be explicit -->\n",
       "<pre>\n",
       "-----\n",
       "IPython             8.14.0\n",
       "jupyter_client      8.3.0\n",
       "jupyter_core        5.3.1\n",
       "-----\n",
       "Python 3.11.4 (tags/v3.11.4:d2340ef, Jun  7 2023, 05:45:37) [MSC v.1934 64 bit (AMD64)]\n",
       "Windows-10-10.0.19044-SP0\n",
       "-----\n",
       "Session information updated at 2023-07-20 15:18\n",
       "</pre>\n",
       "</details>"
      ],
      "text/plain": [
       "<IPython.core.display.HTML object>"
      ]
     },
     "execution_count": 21,
     "metadata": {},
     "output_type": "execute_result"
    }
   ],
   "source": [
    "import session_info\n",
    "\n",
    "session_info.show()"
   ]
  }
 ],
 "metadata": {
  "kernelspec": {
   "display_name": "Python 3",
   "language": "python",
   "name": "python3"
  },
  "language_info": {
   "codemirror_mode": {
    "name": "ipython",
    "version": 3
   },
   "file_extension": ".py",
   "mimetype": "text/x-python",
   "name": "python",
   "nbconvert_exporter": "python",
   "pygments_lexer": "ipython3",
   "version": "3.11.4"
  },
  "orig_nbformat": 4
 },
 "nbformat": 4,
 "nbformat_minor": 2
}
